{
 "cells": [
  {
   "cell_type": "markdown",
   "metadata": {},
   "source": [
    "**Welcome to the MXCuBE jupyter Notebook service!**\n",
    "\n",
    "Press \"Shift + Enter\" to proceed"
   ]
  },
  {
   "cell_type": "code",
   "execution_count": 3,
   "metadata": {
    "collapsed": false
   },
   "outputs": [
    {
     "name": "stdout",
     "output_type": "stream",
     "text": [
      "/home/karpics/mxcube/mxcubeMaster2/bin\n",
      "/home/karpics/mxcube/mxcubeMaster2\n"
     ]
    }
   ],
   "source": [
    "import os\n",
    "import sys\n",
    "\n",
    "cwd = os.getcwd()\n",
    "print cwd\n",
    "mxcube_root = cwd[:-4]\n",
    "\n",
    "print mxcube_root\n",
    "sys.path.insert(0, mxcube_root)\n",
    "\n",
    "from HardwareRepository import HardwareRepository\n",
    "#print \"MXCuBE home directory: %s\" % cwd"
   ]
  },
  {
   "cell_type": "code",
   "execution_count": 6,
   "metadata": {
    "collapsed": false
   },
   "outputs": [],
   "source": [
    "hwr_server = mxcube_root +  \"/ExampleFiles/HardwareObjects.xml\"\n",
    "HardwareRepository.setHardwareRepositoryServer(hwr_server)\n",
    "hardware_repository = HardwareRepository.HardwareRepository()\n",
    "hardware_repository.connect()\n",
    "HardwareRepository.addHardwareObjectsDirs([mxcube_root + \"/HardwareObjects\"])"
   ]
  },
  {
   "cell_type": "markdown",
   "metadata": {},
   "source": [
    "Try to load some hardware objects defined in the ExampleFiles:"
   ]
  },
  {
   "cell_type": "code",
   "execution_count": 8,
   "metadata": {
    "collapsed": false
   },
   "outputs": [
    {
     "name": "stdout",
     "output_type": "stream",
     "text": [
      "12\n",
      "100\n",
      "3\n"
     ]
    }
   ],
   "source": [
    "energy_hwobj = hardware_repository.getHardwareObject(\"energy-mockup\")\n",
    "attenuators_hwobj = hardware_repository.getHardwareObject(\"attenuators-mockup\")\n",
    "detector_hwobj = hardware_repository.getHardwareObject(\"detector-mockup\")\n",
    "mach_info_hwobj = hardware_repository.getHardwareObject(\"mach-info-mockup\")\n",
    "resolution_hwobj = hardware_repository.getHardwareObject(\"resolution-mockup\")\n",
    "transmission_hwobj = hardware_repository.getHardwareObject(\"transmission-mockup\")\n",
    "\n",
    "print energy_hwobj.energy_value\n",
    "print attenuators_hwobj.value\n",
    "print resolution_hwobj.currentResolution"
   ]
  },
  {
   "cell_type": "markdown",
   "metadata": {
    "collapsed": true
   },
   "source": [
    "Use dir to see available methods and variables"
   ]
  },
  {
   "cell_type": "code",
   "execution_count": 9,
   "metadata": {
    "collapsed": false
   },
   "outputs": [
    {
     "name": "stdout",
     "output_type": "stream",
     "text": [
      "['_CommandContainer__channels', '_CommandContainer__channelsToAdd', '_CommandContainer__commands', '_CommandContainer__commandsToAdd', '_Equipment__deviceNotReady', '_Equipment__deviceReady', '_Equipment__ready', '_HardwareObjectNode__name', '_HardwareObjectNode__objects', '_HardwareObjectNode__objectsNames', '_HardwareObjectNode__references', '__bool__', '__doc__', '__getattr__', '__getitem__', '__getstate__', '__init__', '__iter__', '__len__', '__module__', '__nonzero__', '__setattr__', '__setstate__', '_abort', '_addChannelsAndCommands', '_init', '_objectsByRole', '_path', '_propertySet', 'abort', 'addChannel', 'addCommand', 'addObject', 'addReference', 'canMoveEnergy', 'can_move_energy', 'commitChanges', 'connect', 'connectNotify', 'default_en', 'disconnect', 'disconnectNotify', 'emit', 'en_lims', 'energy_motor', 'energy_value', 'executeCommand', 'getChannelNamesList', 'getChannelObject', 'getChannels', 'getCommandNamesList', 'getCommandObject', 'getCommands', 'getCurrentEnergy', 'getCurrentWavelength', 'getDevice', 'getDeviceByRole', 'getDevices', 'getEnergyLimits', 'getObjectByRole', 'getObjects', 'getProperties', 'getProperty', 'getRoles', 'getValue', 'getWavelengthLimits', 'get_energy_limits', 'get_wavelength_limits', 'hasObject', 'init', 'isConnected', 'isReady', 'isValid', 'move_energy', 'move_wavelength', 'moving', 'name', 'objectsNames', 'resolveReferences', 'rewrite_xml', 'setName', 'setPath', 'setProperty', 'setUserFileDirectory', 'setValue', 'start_move_energy', 'tunable', 'update_values', 'userName', 'wavelength_value', 'xml_source']\n"
     ]
    }
   ],
   "source": [
    "print dir(energy_hwobj)"
   ]
  },
  {
   "cell_type": "code",
   "execution_count": 10,
   "metadata": {
    "collapsed": false
   },
   "outputs": [
    {
     "ename": "AttributeError",
     "evalue": "getChannel",
     "output_type": "error",
     "traceback": [
      "\u001b[0;31m---------------------------------------------------------------------------\u001b[0m",
      "\u001b[0;31mAttributeError\u001b[0m                            Traceback (most recent call last)",
      "\u001b[0;32m<ipython-input-10-4608a8d340d4>\u001b[0m in \u001b[0;36m<module>\u001b[0;34m()\u001b[0m\n\u001b[0;32m----> 1\u001b[0;31m \u001b[0menergy_hwobj\u001b[0m\u001b[0;34m.\u001b[0m\u001b[0mgetChannel\u001b[0m\u001b[0;34m(\u001b[0m\u001b[0;34m\"chanTEST\"\u001b[0m\u001b[0;34m)\u001b[0m\u001b[0;34m\u001b[0m\u001b[0m\n\u001b[0m",
      "\u001b[0;32m/home/karpics/mxcube/mxcubeMaster2/HardwareRepository/BaseHardwareObjects.pyc\u001b[0m in \u001b[0;36m__getattr__\u001b[0;34m(self, attr)\u001b[0m\n\u001b[1;32m    344\u001b[0m                 \u001b[0;32mreturn\u001b[0m \u001b[0mHardwareObjectNode\u001b[0m\u001b[0;34m.\u001b[0m\u001b[0m__getattr__\u001b[0m\u001b[0;34m(\u001b[0m\u001b[0mself\u001b[0m\u001b[0;34m,\u001b[0m \u001b[0mattr\u001b[0m\u001b[0;34m)\u001b[0m\u001b[0;34m\u001b[0m\u001b[0m\n\u001b[1;32m    345\u001b[0m             \u001b[0;32mexcept\u001b[0m \u001b[0mAttributeError\u001b[0m\u001b[0;34m:\u001b[0m\u001b[0;34m\u001b[0m\u001b[0m\n\u001b[0;32m--> 346\u001b[0;31m                 \u001b[0;32mraise\u001b[0m \u001b[0mAttributeError\u001b[0m\u001b[0;34m(\u001b[0m\u001b[0mattr\u001b[0m\u001b[0;34m)\u001b[0m\u001b[0;34m\u001b[0m\u001b[0m\n\u001b[0m\u001b[1;32m    347\u001b[0m \u001b[0;34m\u001b[0m\u001b[0m\n\u001b[1;32m    348\u001b[0m     \u001b[0;32mdef\u001b[0m \u001b[0memit\u001b[0m\u001b[0;34m(\u001b[0m\u001b[0mself\u001b[0m\u001b[0;34m,\u001b[0m \u001b[0msignal\u001b[0m\u001b[0;34m,\u001b[0m \u001b[0;34m*\u001b[0m\u001b[0margs\u001b[0m\u001b[0;34m)\u001b[0m\u001b[0;34m:\u001b[0m\u001b[0;34m\u001b[0m\u001b[0m\n",
      "\u001b[0;31mAttributeError\u001b[0m: getChannel"
     ]
    }
   ],
   "source": [
    "energy_hwobj.getChannel(\"chanTEST\")"
   ]
  },
  {
   "cell_type": "code",
   "execution_count": null,
   "metadata": {
    "collapsed": false
   },
   "outputs": [],
   "source": []
  },
  {
   "cell_type": "code",
   "execution_count": null,
   "metadata": {
    "collapsed": true
   },
   "outputs": [],
   "source": []
  }
 ],
 "metadata": {
  "kernelspec": {
   "display_name": "Python 2",
   "language": "python",
   "name": "python2"
  },
  "language_info": {
   "codemirror_mode": {
    "name": "ipython",
    "version": 2
   },
   "file_extension": ".py",
   "mimetype": "text/x-python",
   "name": "python",
   "nbconvert_exporter": "python",
   "pygments_lexer": "ipython2",
   "version": "2.7.6"
  }
 },
 "nbformat": 4,
 "nbformat_minor": 1
}
