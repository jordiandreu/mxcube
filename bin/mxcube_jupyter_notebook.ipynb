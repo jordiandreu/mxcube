{
 "cells": [
  {
   "cell_type": "markdown",
   "metadata": {},
   "source": [
    "**Welcome to the MXCuBE jupyter Notebook service!**\n",
    "\n",
    "Press \"Shift + Enter\" to proceed"
   ]
  },
  {
   "cell_type": "code",
   "execution_count": 1,
   "metadata": {
    "collapsed": false
   },
   "outputs": [],
   "source": [
    "import os\n",
    "cwd = os.getcwd()\n",
    "from HardwareRepository import HardwareRepository\n",
    "#print \"MXCuBE home directory: %s\" % cwd"
   ]
  },
  {
   "cell_type": "code",
   "execution_count": 2,
   "metadata": {
    "collapsed": false
   },
   "outputs": [],
   "source": [
    "hwr_server = cwd +  \"/ExampleFiles/HardwareObjects.xml\"\n",
    "HardwareRepository.setHardwareRepositoryServer(hwr_server)\n",
    "hardware_repository = HardwareRepository.HardwareRepository()\n",
    "hardware_repository.connect()\n",
    "HardwareRepository.addHardwareObjectsDirs([cwd + \"/HardwareObjects\"])"
   ]
  },
  {
   "cell_type": "markdown",
   "metadata": {},
   "source": [
    "Try to load some hardware objects defined in the ExampleFiles:"
   ]
  },
  {
   "cell_type": "code",
   "execution_count": 3,
   "metadata": {
    "collapsed": false
   },
   "outputs": [
    {
     "name": "stdout",
     "output_type": "stream",
     "text": [
      "12\n",
      "100\n",
      "3\n"
     ]
    }
   ],
   "source": [
    "energy_hwobj = hardware_repository.getHardwareObject(\"energy-mockup\")\n",
    "attenuators_hwobj = hardware_repository.getHardwareObject(\"attenuators-mockup\")\n",
    "detector_hwobj = hardware_repository.getHardwareObject(\"detector-mockup\")\n",
    "mach_info_hwobj = hardware_repository.getHardwareObject(\"mach-info-mockup\")\n",
    "resolution_hwobj = hardware_repository.getHardwareObject(\"resolution-mockup\")\n",
    "transmission_hwobj = hardware_repository.getHardwareObject(\"transmission-mockup\")\n",
    "\n",
    "print energy_hwobj.energy_value\n",
    "print attenuators_hwobj.value\n",
    "print resolution_hwobj.currentResolution"
   ]
  },
  {
   "cell_type": "markdown",
   "metadata": {
    "collapsed": true
   },
   "source": [
    "Use dir to see available methods and variables"
   ]
  },
  {
   "cell_type": "code",
   "execution_count": 4,
   "metadata": {
    "collapsed": false
   },
   "outputs": [
    {
     "name": "stdout",
     "output_type": "stream",
     "text": [
      "['_CommandContainer__channels', '_CommandContainer__channelsToAdd', '_CommandContainer__commands', '_CommandContainer__commandsToAdd', '_Equipment__deviceNotReady', '_Equipment__deviceReady', '_Equipment__ready', '_HardwareObjectNode__name', '_HardwareObjectNode__objects', '_HardwareObjectNode__objectsNames', '_HardwareObjectNode__references', '__bool__', '__doc__', '__getattr__', '__getitem__', '__getstate__', '__init__', '__iter__', '__len__', '__module__', '__setattr__', '__setstate__', '_abort', '_addChannelsAndCommands', '_init', '_objectsByRole', '_path', '_propertySet', 'abort', 'addChannel', 'addCommand', 'addObject', 'addReference', 'canMoveEnergy', 'can_move_energy', 'commitChanges', 'connect', 'connectNotify', 'default_en', 'disconnect', 'disconnectNotify', 'emit', 'en_lims', 'energy_motor', 'energy_value', 'executeCommand', 'getChannelNamesList', 'getChannelObject', 'getChannels', 'getCommandNamesList', 'getCommandObject', 'getCommands', 'getCurrentEnergy', 'getCurrentWavelength', 'getDevice', 'getDeviceByRole', 'getDevices', 'getEnergyLimits', 'getObjectByRole', 'getObjects', 'getProperties', 'getProperty', 'getRoles', 'getValue', 'getWavelengthLimits', 'get_energy_limits', 'hasObject', 'init', 'isConnected', 'isReady', 'isValid', 'move_energy', 'moving', 'name', 'objectsNames', 'resolveReferences', 'rewrite_xml', 'setName', 'setPath', 'setProperty', 'setValue', 'start_move_energy', 'tunable', 'update_values', 'userName', 'wavelength_value', 'xml_source']\n"
     ]
    }
   ],
   "source": [
    "print dir(energy_hwobj)"
   ]
  },
  {
   "cell_type": "code",
   "execution_count": null,
   "metadata": {
    "collapsed": false
   },
   "outputs": [],
   "source": []
  },
  {
   "cell_type": "code",
   "execution_count": null,
   "metadata": {
    "collapsed": false
   },
   "outputs": [],
   "source": []
  },
  {
   "cell_type": "code",
   "execution_count": null,
   "metadata": {
    "collapsed": true
   },
   "outputs": [],
   "source": []
  }
 ],
 "metadata": {
  "kernelspec": {
   "display_name": "Python 2",
   "language": "python",
   "name": "python2"
  },
  "language_info": {
   "codemirror_mode": {
    "name": "ipython",
    "version": 2
   },
   "file_extension": ".py",
   "mimetype": "text/x-python",
   "name": "python",
   "nbconvert_exporter": "python",
   "pygments_lexer": "ipython2",
   "version": "2.7.6"
  }
 },
 "nbformat": 4,
 "nbformat_minor": 1
}
